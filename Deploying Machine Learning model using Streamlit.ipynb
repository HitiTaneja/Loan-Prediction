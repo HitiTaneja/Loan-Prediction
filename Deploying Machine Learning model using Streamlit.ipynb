{
 "cells": [
  {
   "cell_type": "markdown",
   "metadata": {
    "id": "Ebv0gc7vhSpM"
   },
   "source": [
    "## Steps to build the Loan Eligibility model\n",
    "\n",
    "1. Loading the dataset\n",
    "2. Pre-processing the dataset\n",
    "3. Building the Loan Prediction model"
   ]
  },
  {
   "cell_type": "markdown",
   "metadata": {
    "id": "iWZBfvFVexbZ"
   },
   "source": [
    "## 1. Loading the dataset"
   ]
  },
  {
   "cell_type": "code",
   "execution_count": 13,
   "metadata": {
    "colab": {
     "base_uri": "https://localhost:8080/",
     "height": 204
    },
    "executionInfo": {
     "elapsed": 1017,
     "status": "ok",
     "timestamp": 1616658159246,
     "user": {
      "displayName": "Subhash Meena",
      "photoUrl": "https://lh3.googleusercontent.com/a-/AOh14GjlYUo0RW8qCl-1gd9LR46qtyzQBuRLoySJAMrc=s64",
      "userId": "01461370006936346968"
     },
     "user_tz": -330
    },
    "id": "DHOWaQJbUiS6",
    "outputId": "071ff50c-9eda-4d5f-b153-5c01fbf1a083"
   },
   "outputs": [
    {
     "data": {
      "text/html": [
       "<div>\n",
       "<style scoped>\n",
       "    .dataframe tbody tr th:only-of-type {\n",
       "        vertical-align: middle;\n",
       "    }\n",
       "\n",
       "    .dataframe tbody tr th {\n",
       "        vertical-align: top;\n",
       "    }\n",
       "\n",
       "    .dataframe thead th {\n",
       "        text-align: right;\n",
       "    }\n",
       "</style>\n",
       "<table border=\"1\" class=\"dataframe\">\n",
       "  <thead>\n",
       "    <tr style=\"text-align: right;\">\n",
       "      <th></th>\n",
       "      <th>Loan_ID</th>\n",
       "      <th>Gender</th>\n",
       "      <th>Married</th>\n",
       "      <th>Dependents</th>\n",
       "      <th>Education</th>\n",
       "      <th>Self_Employed</th>\n",
       "      <th>ApplicantIncome</th>\n",
       "      <th>CoapplicantIncome</th>\n",
       "      <th>LoanAmount</th>\n",
       "      <th>Loan_Amount_Term</th>\n",
       "      <th>Credit_History</th>\n",
       "      <th>Property_Area</th>\n",
       "      <th>Loan_Status</th>\n",
       "    </tr>\n",
       "  </thead>\n",
       "  <tbody>\n",
       "    <tr>\n",
       "      <th>0</th>\n",
       "      <td>LP001002</td>\n",
       "      <td>Male</td>\n",
       "      <td>No</td>\n",
       "      <td>0</td>\n",
       "      <td>Graduate</td>\n",
       "      <td>No</td>\n",
       "      <td>5849</td>\n",
       "      <td>0.0</td>\n",
       "      <td>146</td>\n",
       "      <td>360.0</td>\n",
       "      <td>1.0</td>\n",
       "      <td>Urban</td>\n",
       "      <td>Y</td>\n",
       "    </tr>\n",
       "    <tr>\n",
       "      <th>1</th>\n",
       "      <td>LP001003</td>\n",
       "      <td>Male</td>\n",
       "      <td>Yes</td>\n",
       "      <td>1</td>\n",
       "      <td>Graduate</td>\n",
       "      <td>No</td>\n",
       "      <td>4583</td>\n",
       "      <td>1508.0</td>\n",
       "      <td>128</td>\n",
       "      <td>360.0</td>\n",
       "      <td>1.0</td>\n",
       "      <td>Rural</td>\n",
       "      <td>N</td>\n",
       "    </tr>\n",
       "    <tr>\n",
       "      <th>2</th>\n",
       "      <td>LP001005</td>\n",
       "      <td>Male</td>\n",
       "      <td>Yes</td>\n",
       "      <td>0</td>\n",
       "      <td>Graduate</td>\n",
       "      <td>Yes</td>\n",
       "      <td>3000</td>\n",
       "      <td>0.0</td>\n",
       "      <td>66</td>\n",
       "      <td>360.0</td>\n",
       "      <td>1.0</td>\n",
       "      <td>Urban</td>\n",
       "      <td>Y</td>\n",
       "    </tr>\n",
       "    <tr>\n",
       "      <th>3</th>\n",
       "      <td>LP001006</td>\n",
       "      <td>Male</td>\n",
       "      <td>Yes</td>\n",
       "      <td>0</td>\n",
       "      <td>Not Graduate</td>\n",
       "      <td>No</td>\n",
       "      <td>2583</td>\n",
       "      <td>2358.0</td>\n",
       "      <td>120</td>\n",
       "      <td>360.0</td>\n",
       "      <td>1.0</td>\n",
       "      <td>Urban</td>\n",
       "      <td>Y</td>\n",
       "    </tr>\n",
       "    <tr>\n",
       "      <th>4</th>\n",
       "      <td>LP001008</td>\n",
       "      <td>Male</td>\n",
       "      <td>No</td>\n",
       "      <td>0</td>\n",
       "      <td>Graduate</td>\n",
       "      <td>No</td>\n",
       "      <td>6000</td>\n",
       "      <td>0.0</td>\n",
       "      <td>141</td>\n",
       "      <td>360.0</td>\n",
       "      <td>1.0</td>\n",
       "      <td>Urban</td>\n",
       "      <td>Y</td>\n",
       "    </tr>\n",
       "  </tbody>\n",
       "</table>\n",
       "</div>"
      ],
      "text/plain": [
       "    Loan_ID Gender Married Dependents     Education Self_Employed  \\\n",
       "0  LP001002   Male      No          0      Graduate            No   \n",
       "1  LP001003   Male     Yes          1      Graduate            No   \n",
       "2  LP001005   Male     Yes          0      Graduate           Yes   \n",
       "3  LP001006   Male     Yes          0  Not Graduate            No   \n",
       "4  LP001008   Male      No          0      Graduate            No   \n",
       "\n",
       "   ApplicantIncome  CoapplicantIncome  LoanAmount  Loan_Amount_Term  \\\n",
       "0             5849                0.0         146             360.0   \n",
       "1             4583             1508.0         128             360.0   \n",
       "2             3000                0.0          66             360.0   \n",
       "3             2583             2358.0         120             360.0   \n",
       "4             6000                0.0         141             360.0   \n",
       "\n",
       "   Credit_History Property_Area Loan_Status  \n",
       "0             1.0         Urban           Y  \n",
       "1             1.0         Rural           N  \n",
       "2             1.0         Urban           Y  \n",
       "3             1.0         Urban           Y  \n",
       "4             1.0         Urban           Y  "
      ]
     },
     "execution_count": 13,
     "metadata": {},
     "output_type": "execute_result"
    }
   ],
   "source": [
    "# importing libraries\n",
    "import pandas as pd\n",
    "\n",
    "# loading the dataset\n",
    "train = pd.read_csv('loan_data.csv')\n",
    "train.head()"
   ]
  },
  {
   "cell_type": "markdown",
   "metadata": {
    "id": "oBhn9zl-e2RG"
   },
   "source": [
    "## 2. Pre-processing the dataset"
   ]
  },
  {
   "cell_type": "code",
   "execution_count": 14,
   "metadata": {
    "id": "rifJBtUhJSvg"
   },
   "outputs": [],
   "source": [
    "# converting categories into numbers\n",
    "train['Gender']= train['Gender'].map({'Male':0, 'Female':1})\n",
    "train['Married']= train['Married'].map({'No':0, 'Yes':1})\n",
    "train['Loan_Status']= train['Loan_Status'].map({'N':0, 'Y':1})"
   ]
  },
  {
   "cell_type": "code",
   "execution_count": 15,
   "metadata": {
    "id": "BkjwkuYgP6j_"
   },
   "outputs": [],
   "source": [
    "# separating dependent and independent variables\n",
    "X = train[['Gender', 'Married', 'ApplicantIncome', 'LoanAmount']]\n",
    "y = train.Loan_Status"
   ]
  },
  {
   "cell_type": "markdown",
   "metadata": {},
   "source": [
    "## 3. Building the Loan Prediction Model"
   ]
  },
  {
   "cell_type": "code",
   "execution_count": 17,
   "metadata": {
    "id": "uDVoIiLiYpTh"
   },
   "outputs": [],
   "source": [
    "# importing machine learning model\n",
    "from sklearn.linear_model import LogisticRegression"
   ]
  },
  {
   "cell_type": "code",
   "execution_count": 18,
   "metadata": {
    "colab": {
     "base_uri": "https://localhost:8080/"
    },
    "executionInfo": {
     "elapsed": 1295,
     "status": "ok",
     "timestamp": 1616658162808,
     "user": {
      "displayName": "Subhash Meena",
      "photoUrl": "https://lh3.googleusercontent.com/a-/AOh14GjlYUo0RW8qCl-1gd9LR46qtyzQBuRLoySJAMrc=s64",
      "userId": "01461370006936346968"
     },
     "user_tz": -330
    },
    "id": "dTmcMYGTZBc8",
    "outputId": "7a80c4ec-e7c3-4f19-abd7-5cd22936a02a"
   },
   "outputs": [
    {
     "data": {
      "text/html": [
       "<style>#sk-container-id-1 {color: black;background-color: white;}#sk-container-id-1 pre{padding: 0;}#sk-container-id-1 div.sk-toggleable {background-color: white;}#sk-container-id-1 label.sk-toggleable__label {cursor: pointer;display: block;width: 100%;margin-bottom: 0;padding: 0.3em;box-sizing: border-box;text-align: center;}#sk-container-id-1 label.sk-toggleable__label-arrow:before {content: \"▸\";float: left;margin-right: 0.25em;color: #696969;}#sk-container-id-1 label.sk-toggleable__label-arrow:hover:before {color: black;}#sk-container-id-1 div.sk-estimator:hover label.sk-toggleable__label-arrow:before {color: black;}#sk-container-id-1 div.sk-toggleable__content {max-height: 0;max-width: 0;overflow: hidden;text-align: left;background-color: #f0f8ff;}#sk-container-id-1 div.sk-toggleable__content pre {margin: 0.2em;color: black;border-radius: 0.25em;background-color: #f0f8ff;}#sk-container-id-1 input.sk-toggleable__control:checked~div.sk-toggleable__content {max-height: 200px;max-width: 100%;overflow: auto;}#sk-container-id-1 input.sk-toggleable__control:checked~label.sk-toggleable__label-arrow:before {content: \"▾\";}#sk-container-id-1 div.sk-estimator input.sk-toggleable__control:checked~label.sk-toggleable__label {background-color: #d4ebff;}#sk-container-id-1 div.sk-label input.sk-toggleable__control:checked~label.sk-toggleable__label {background-color: #d4ebff;}#sk-container-id-1 input.sk-hidden--visually {border: 0;clip: rect(1px 1px 1px 1px);clip: rect(1px, 1px, 1px, 1px);height: 1px;margin: -1px;overflow: hidden;padding: 0;position: absolute;width: 1px;}#sk-container-id-1 div.sk-estimator {font-family: monospace;background-color: #f0f8ff;border: 1px dotted black;border-radius: 0.25em;box-sizing: border-box;margin-bottom: 0.5em;}#sk-container-id-1 div.sk-estimator:hover {background-color: #d4ebff;}#sk-container-id-1 div.sk-parallel-item::after {content: \"\";width: 100%;border-bottom: 1px solid gray;flex-grow: 1;}#sk-container-id-1 div.sk-label:hover label.sk-toggleable__label {background-color: #d4ebff;}#sk-container-id-1 div.sk-serial::before {content: \"\";position: absolute;border-left: 1px solid gray;box-sizing: border-box;top: 0;bottom: 0;left: 50%;z-index: 0;}#sk-container-id-1 div.sk-serial {display: flex;flex-direction: column;align-items: center;background-color: white;padding-right: 0.2em;padding-left: 0.2em;position: relative;}#sk-container-id-1 div.sk-item {position: relative;z-index: 1;}#sk-container-id-1 div.sk-parallel {display: flex;align-items: stretch;justify-content: center;background-color: white;position: relative;}#sk-container-id-1 div.sk-item::before, #sk-container-id-1 div.sk-parallel-item::before {content: \"\";position: absolute;border-left: 1px solid gray;box-sizing: border-box;top: 0;bottom: 0;left: 50%;z-index: -1;}#sk-container-id-1 div.sk-parallel-item {display: flex;flex-direction: column;z-index: 1;position: relative;background-color: white;}#sk-container-id-1 div.sk-parallel-item:first-child::after {align-self: flex-end;width: 50%;}#sk-container-id-1 div.sk-parallel-item:last-child::after {align-self: flex-start;width: 50%;}#sk-container-id-1 div.sk-parallel-item:only-child::after {width: 0;}#sk-container-id-1 div.sk-dashed-wrapped {border: 1px dashed gray;margin: 0 0.4em 0.5em 0.4em;box-sizing: border-box;padding-bottom: 0.4em;background-color: white;}#sk-container-id-1 div.sk-label label {font-family: monospace;font-weight: bold;display: inline-block;line-height: 1.2em;}#sk-container-id-1 div.sk-label-container {text-align: center;}#sk-container-id-1 div.sk-container {/* jupyter's `normalize.less` sets `[hidden] { display: none; }` but bootstrap.min.css set `[hidden] { display: none !important; }` so we also need the `!important` here to be able to override the default hidden behavior on the sphinx rendered scikit-learn.org. See: https://github.com/scikit-learn/scikit-learn/issues/21755 */display: inline-block !important;position: relative;}#sk-container-id-1 div.sk-text-repr-fallback {display: none;}</style><div id=\"sk-container-id-1\" class=\"sk-top-container\"><div class=\"sk-text-repr-fallback\"><pre>LogisticRegression()</pre><b>In a Jupyter environment, please rerun this cell to show the HTML representation or trust the notebook. <br />On GitHub, the HTML representation is unable to render, please try loading this page with nbviewer.org.</b></div><div class=\"sk-container\" hidden><div class=\"sk-item\"><div class=\"sk-estimator sk-toggleable\"><input class=\"sk-toggleable__control sk-hidden--visually\" id=\"sk-estimator-id-1\" type=\"checkbox\" checked><label for=\"sk-estimator-id-1\" class=\"sk-toggleable__label sk-toggleable__label-arrow\">LogisticRegression</label><div class=\"sk-toggleable__content\"><pre>LogisticRegression()</pre></div></div></div></div></div>"
      ],
      "text/plain": [
       "LogisticRegression()"
      ]
     },
     "execution_count": 18,
     "metadata": {},
     "output_type": "execute_result"
    }
   ],
   "source": [
    "# training the logistic regression model\n",
    "model = LogisticRegression() \n",
    "model.fit(X, y)"
   ]
  },
  {
   "cell_type": "code",
   "execution_count": 19,
   "metadata": {
    "id": "jONqkkqUJSwe"
   },
   "outputs": [],
   "source": [
    "# saving the model \n",
    "import pickle \n",
    "pickle_out = open(\"classifier.pkl\", mode = \"wb\") # wb means write in binary format\n",
    "pickle.dump(model, pickle_out) \n",
    "pickle_out.close()"
   ]
  },
  {
   "cell_type": "markdown",
   "metadata": {
    "id": "jPtUSXpZfntZ"
   },
   "source": [
    "## Deploying the machine learning model using streamlit\n",
    "\n",
    "1. Building the Frontend of the application\n",
    "2. Loading and Pre-processing the data\n",
    "3. Building the Machine Learning model to automate Loan Eligibility\n",
    "4. Deploying the application"
   ]
  },
  {
   "cell_type": "markdown",
   "metadata": {
    "id": "UyQbUqDr7AUK"
   },
   "source": [
    "## 1. Building the Frontend of the application\n",
    "\n",
    "1.1 Install Required Libraries<br>\n",
    "1.2 Creating the Frontend of the app using Streamlit\n",
    "\n",
    "### 1.1 Install Required Libraries##"
   ]
  },
  {
   "cell_type": "code",
   "execution_count": null,
   "metadata": {
    "colab": {
     "base_uri": "https://localhost:8080/"
    },
    "executionInfo": {
     "elapsed": 5211,
     "status": "ok",
     "timestamp": 1616658171114,
     "user": {
      "displayName": "Subhash Meena",
      "photoUrl": "https://lh3.googleusercontent.com/a-/AOh14GjlYUo0RW8qCl-1gd9LR46qtyzQBuRLoySJAMrc=s64",
      "userId": "01461370006936346968"
     },
     "user_tz": -330
    },
    "id": "8o2Nv-0GVhsv",
    "outputId": "41040cd0-77ee-4822-d035-152977a9f673"
   },
   "outputs": [
    {
     "name": "stdout",
     "output_type": "stream",
     "text": [
      "\u001b[?25l\r",
      "\u001b[K     |▍                               | 10kB 21.9MB/s eta 0:00:01\r",
      "\u001b[K     |▉                               | 20kB 17.9MB/s eta 0:00:01\r",
      "\u001b[K     |█▎                              | 30kB 15.1MB/s eta 0:00:01\r",
      "\u001b[K     |█▊                              | 40kB 13.7MB/s eta 0:00:01\r",
      "\u001b[K     |██▏                             | 51kB 9.5MB/s eta 0:00:01\r",
      "\u001b[K     |██▋                             | 61kB 8.7MB/s eta 0:00:01\r",
      "\u001b[K     |███                             | 71kB 9.8MB/s eta 0:00:01\r",
      "\u001b[K     |███▌                            | 81kB 10.9MB/s eta 0:00:01\r",
      "\u001b[K     |████                            | 92kB 10.3MB/s eta 0:00:01\r",
      "\u001b[K     |████▍                           | 102kB 9.1MB/s eta 0:00:01\r",
      "\u001b[K     |████▉                           | 112kB 9.1MB/s eta 0:00:01\r",
      "\u001b[K     |█████▎                          | 122kB 9.1MB/s eta 0:00:01\r",
      "\u001b[K     |█████▊                          | 133kB 9.1MB/s eta 0:00:01\r",
      "\u001b[K     |██████▏                         | 143kB 9.1MB/s eta 0:00:01\r",
      "\u001b[K     |██████▋                         | 153kB 9.1MB/s eta 0:00:01\r",
      "\u001b[K     |███████                         | 163kB 9.1MB/s eta 0:00:01\r",
      "\u001b[K     |███████▌                        | 174kB 9.1MB/s eta 0:00:01\r",
      "\u001b[K     |████████                        | 184kB 9.1MB/s eta 0:00:01\r",
      "\u001b[K     |████████▍                       | 194kB 9.1MB/s eta 0:00:01\r",
      "\u001b[K     |████████▉                       | 204kB 9.1MB/s eta 0:00:01\r",
      "\u001b[K     |█████████▎                      | 215kB 9.1MB/s eta 0:00:01\r",
      "\u001b[K     |█████████▊                      | 225kB 9.1MB/s eta 0:00:01\r",
      "\u001b[K     |██████████▏                     | 235kB 9.1MB/s eta 0:00:01\r",
      "\u001b[K     |██████████▋                     | 245kB 9.1MB/s eta 0:00:01\r",
      "\u001b[K     |███████████                     | 256kB 9.1MB/s eta 0:00:01\r",
      "\u001b[K     |███████████▌                    | 266kB 9.1MB/s eta 0:00:01\r",
      "\u001b[K     |████████████                    | 276kB 9.1MB/s eta 0:00:01\r",
      "\u001b[K     |████████████▍                   | 286kB 9.1MB/s eta 0:00:01\r",
      "\u001b[K     |████████████▉                   | 296kB 9.1MB/s eta 0:00:01\r",
      "\u001b[K     |█████████████▎                  | 307kB 9.1MB/s eta 0:00:01\r",
      "\u001b[K     |█████████████▊                  | 317kB 9.1MB/s eta 0:00:01\r",
      "\u001b[K     |██████████████                  | 327kB 9.1MB/s eta 0:00:01\r",
      "\u001b[K     |██████████████▌                 | 337kB 9.1MB/s eta 0:00:01\r",
      "\u001b[K     |███████████████                 | 348kB 9.1MB/s eta 0:00:01\r",
      "\u001b[K     |███████████████▍                | 358kB 9.1MB/s eta 0:00:01\r",
      "\u001b[K     |███████████████▉                | 368kB 9.1MB/s eta 0:00:01\r",
      "\u001b[K     |████████████████▎               | 378kB 9.1MB/s eta 0:00:01\r",
      "\u001b[K     |████████████████▊               | 389kB 9.1MB/s eta 0:00:01\r",
      "\u001b[K     |█████████████████▏              | 399kB 9.1MB/s eta 0:00:01\r",
      "\u001b[K     |█████████████████▋              | 409kB 9.1MB/s eta 0:00:01\r",
      "\u001b[K     |██████████████████              | 419kB 9.1MB/s eta 0:00:01\r",
      "\u001b[K     |██████████████████▌             | 430kB 9.1MB/s eta 0:00:01\r",
      "\u001b[K     |███████████████████             | 440kB 9.1MB/s eta 0:00:01\r",
      "\u001b[K     |███████████████████▍            | 450kB 9.1MB/s eta 0:00:01\r",
      "\u001b[K     |███████████████████▉            | 460kB 9.1MB/s eta 0:00:01\r",
      "\u001b[K     |████████████████████▎           | 471kB 9.1MB/s eta 0:00:01\r",
      "\u001b[K     |████████████████████▊           | 481kB 9.1MB/s eta 0:00:01\r",
      "\u001b[K     |█████████████████████▏          | 491kB 9.1MB/s eta 0:00:01\r",
      "\u001b[K     |█████████████████████▋          | 501kB 9.1MB/s eta 0:00:01\r",
      "\u001b[K     |██████████████████████          | 512kB 9.1MB/s eta 0:00:01\r",
      "\u001b[K     |██████████████████████▌         | 522kB 9.1MB/s eta 0:00:01\r",
      "\u001b[K     |███████████████████████         | 532kB 9.1MB/s eta 0:00:01\r",
      "\u001b[K     |███████████████████████▍        | 542kB 9.1MB/s eta 0:00:01\r",
      "\u001b[K     |███████████████████████▉        | 552kB 9.1MB/s eta 0:00:01\r",
      "\u001b[K     |████████████████████████▎       | 563kB 9.1MB/s eta 0:00:01\r",
      "\u001b[K     |████████████████████████▊       | 573kB 9.1MB/s eta 0:00:01\r",
      "\u001b[K     |█████████████████████████▏      | 583kB 9.1MB/s eta 0:00:01\r",
      "\u001b[K     |█████████████████████████▋      | 593kB 9.1MB/s eta 0:00:01\r",
      "\u001b[K     |██████████████████████████      | 604kB 9.1MB/s eta 0:00:01\r",
      "\u001b[K     |██████████████████████████▌     | 614kB 9.1MB/s eta 0:00:01\r",
      "\u001b[K     |███████████████████████████     | 624kB 9.1MB/s eta 0:00:01\r",
      "\u001b[K     |███████████████████████████▍    | 634kB 9.1MB/s eta 0:00:01\r",
      "\u001b[K     |███████████████████████████▉    | 645kB 9.1MB/s eta 0:00:01\r",
      "\u001b[K     |████████████████████████████▏   | 655kB 9.1MB/s eta 0:00:01\r",
      "\u001b[K     |████████████████████████████▋   | 665kB 9.1MB/s eta 0:00:01\r",
      "\u001b[K     |█████████████████████████████   | 675kB 9.1MB/s eta 0:00:01\r",
      "\u001b[K     |█████████████████████████████▌  | 686kB 9.1MB/s eta 0:00:01\r",
      "\u001b[K     |██████████████████████████████  | 696kB 9.1MB/s eta 0:00:01\r",
      "\u001b[K     |██████████████████████████████▍ | 706kB 9.1MB/s eta 0:00:01\r",
      "\u001b[K     |██████████████████████████████▉ | 716kB 9.1MB/s eta 0:00:01\r",
      "\u001b[K     |███████████████████████████████▎| 727kB 9.1MB/s eta 0:00:01\r",
      "\u001b[K     |███████████████████████████████▊| 737kB 9.1MB/s eta 0:00:01\r",
      "\u001b[K     |████████████████████████████████| 747kB 9.1MB/s \n",
      "\u001b[?25h  Building wheel for pyngrok (setup.py) ... \u001b[?25l\u001b[?25hdone\n"
     ]
    }
   ],
   "source": [
    "# installing pyngrok\n",
    "!pip install -q pyngrok"
   ]
  },
  {
   "cell_type": "code",
   "execution_count": null,
   "metadata": {
    "colab": {
     "base_uri": "https://localhost:8080/"
    },
    "executionInfo": {
     "elapsed": 15700,
     "status": "ok",
     "timestamp": 1616658186777,
     "user": {
      "displayName": "Subhash Meena",
      "photoUrl": "https://lh3.googleusercontent.com/a-/AOh14GjlYUo0RW8qCl-1gd9LR46qtyzQBuRLoySJAMrc=s64",
      "userId": "01461370006936346968"
     },
     "user_tz": -330
    },
    "id": "96rKP77EJSvR",
    "outputId": "3a62d438-6c1c-4ccd-f5cb-e20cde43c27f"
   },
   "outputs": [
    {
     "name": "stdout",
     "output_type": "stream",
     "text": [
      "\u001b[K     |████████████████████████████████| 7.0MB 7.6MB/s \n",
      "\u001b[K     |████████████████████████████████| 112kB 56.1MB/s \n",
      "\u001b[K     |████████████████████████████████| 4.6MB 51.3MB/s \n",
      "\u001b[K     |████████████████████████████████| 81kB 11.1MB/s \n",
      "\u001b[K     |████████████████████████████████| 163kB 51.8MB/s \n",
      "\u001b[K     |████████████████████████████████| 122kB 53.7MB/s \n",
      "\u001b[K     |████████████████████████████████| 71kB 10.4MB/s \n",
      "\u001b[?25h  Building wheel for blinker (setup.py) ... \u001b[?25l\u001b[?25hdone\n",
      "\u001b[31mERROR: google-colab 1.0.0 has requirement ipykernel~=4.10, but you'll have ipykernel 5.5.0 which is incompatible.\u001b[0m\n"
     ]
    }
   ],
   "source": [
    "# installing streamlit\n",
    "!pip install -q streamlit"
   ]
  },
  {
   "cell_type": "markdown",
   "metadata": {
    "id": "rlKW2k6x7YS-"
   },
   "source": [
    "### 1.2. Creating the frontend of the app using streamlit"
   ]
  },
  {
   "cell_type": "code",
   "execution_count": 20,
   "metadata": {
    "colab": {
     "base_uri": "https://localhost:8080/"
    },
    "executionInfo": {
     "elapsed": 8222,
     "status": "ok",
     "timestamp": 1616658186778,
     "user": {
      "displayName": "Subhash Meena",
      "photoUrl": "https://lh3.googleusercontent.com/a-/AOh14GjlYUo0RW8qCl-1gd9LR46qtyzQBuRLoySJAMrc=s64",
      "userId": "01461370006936346968"
     },
     "user_tz": -330
    },
    "id": "ZC4c6EMgRYX1",
    "outputId": "4c7de892-42b8-4c9d-8b53-ea761471596e"
   },
   "outputs": [
    {
     "name": "stdout",
     "output_type": "stream",
     "text": [
      "Overwriting app.py\n"
     ]
    }
   ],
   "source": [
    "\n",
    "%%writefile app.py\n",
    "# creating the script\n",
    "\n",
    "# importing required libraries\n",
    "import pickle\n",
    "import streamlit as st\n",
    "\n",
    "# loading the trained model\n",
    "pickle_in = open('classifier.pkl', 'rb') \n",
    "classifier = pickle.load(pickle_in)\n",
    "\n",
    "# this is the main function in which we define our app  \n",
    "def main():       \n",
    "    # header of the page \n",
    "    html_temp = \"\"\" \n",
    "    <div style =\"background-color:yellow;padding:13px\"> \n",
    "    <h1 style =\"color:black;text-align:center;\">Check your Loan Eligibility</h1> \n",
    "    </div> \n",
    "    \"\"\"\n",
    "    st.markdown(html_temp, unsafe_allow_html = True) \n",
    "\n",
    "    # following lines create boxes in which user can enter data required to make prediction \n",
    "    Gender = st.selectbox('Gender',(\"Male\",\"Female\",\"Other\"))\n",
    "    Married = st.selectbox('Marital Status',(\"Unmarried\",\"Married\",\"Other\")) \n",
    "    ApplicantIncome = st.number_input(\"Monthly Income in Rupees\") \n",
    "    LoanAmount = st.number_input(\"Loan Amount in Rupees\")\n",
    "    result =\"\"\n",
    "      \n",
    "    # when 'Check' is clicked, make the prediction and store it \n",
    "    if st.button(\"Check\"): \n",
    "        result = prediction(Gender, Married, ApplicantIncome, LoanAmount) \n",
    "        st.success('Your loan is {}'.format(result))\n",
    " \n",
    "# defining the function which will make the prediction using the data which the user inputs \n",
    "def prediction(Gender, Married, ApplicantIncome, LoanAmount): \n",
    "\n",
    "    # 2. Loading and Pre-processing the data \n",
    "\n",
    "    if Gender == \"Male\":\n",
    "        Gender = 0\n",
    "    else:\n",
    "        Gender = 1\n",
    "\n",
    "    if Married == \"Married\":\n",
    "        Married = 1\n",
    "    else:\n",
    "        Married = 0\n",
    "\n",
    "    # 3. Building the model to automate Loan Eligibility \n",
    "\n",
    "    # if (ApplicantIncome >= 50000):\n",
    "    #     loan_status = 'Approved'\n",
    "    # elif (LoanAmount < 500000):\n",
    "    #     loan_status = 'Approved'\n",
    "    # else:\n",
    "    #     loan_status = 'Rejected'\n",
    "    # return loan_status\n",
    "\n",
    "    prediction = classifier.predict( \n",
    "        [[Gender, Married, ApplicantIncome, LoanAmount]])\n",
    "     \n",
    "    if prediction == 0:\n",
    "        pred = 'Rejected'\n",
    "    else:\n",
    "        pred = 'Approved'\n",
    "    return pred\n",
    "     \n",
    "if __name__=='__main__': \n",
    "    main()"
   ]
  },
  {
   "cell_type": "markdown",
   "metadata": {
    "id": "dWM7e9709d72"
   },
   "source": [
    "## 4. Deploying the application"
   ]
  },
  {
   "cell_type": "code",
   "execution_count": null,
   "metadata": {
    "id": "fLsQUC3qgtZl"
   },
   "outputs": [],
   "source": [
    "# running the app\n",
    "!streamlit run app.py &>/dev/null&"
   ]
  },
  {
   "cell_type": "code",
   "execution_count": null,
   "metadata": {
    "colab": {
     "base_uri": "https://localhost:8080/"
    },
    "executionInfo": {
     "elapsed": 7429,
     "status": "ok",
     "timestamp": 1616658188674,
     "user": {
      "displayName": "Subhash Meena",
      "photoUrl": "https://lh3.googleusercontent.com/a-/AOh14GjlYUo0RW8qCl-1gd9LR46qtyzQBuRLoySJAMrc=s64",
      "userId": "01461370006936346968"
     },
     "user_tz": -330
    },
    "id": "G93y3SeHgf6H",
    "outputId": "862bf653-243a-4357-d2b4-a90eacd4edd3"
   },
   "outputs": [
    {
     "name": "stdout",
     "output_type": "stream",
     "text": []
    },
    {
     "data": {
      "text/plain": [
       "<NgrokTunnel: \"http://5ba00d578dab.ngrok.io\" -> \"http://localhost:8501\">"
      ]
     },
     "execution_count": 15,
     "metadata": {
      "tags": []
     },
     "output_type": "execute_result"
    }
   ],
   "source": [
    "# making the locally-hosted web application to be publicly accessible\n",
    "from pyngrok import ngrok\n",
    "\n",
    "public_url = ngrok.connect('8501')\n",
    "public_url"
   ]
  },
  {
   "cell_type": "code",
   "execution_count": null,
   "metadata": {
    "id": "IFaF3WTcTeJA"
   },
   "outputs": [],
   "source": []
  }
 ],
 "metadata": {
  "accelerator": "GPU",
  "colab": {
   "collapsed_sections": [],
   "name": "3.6 Deploying Machine Learning model using Streamlit",
   "provenance": [
    {
     "file_id": "1MOdsbJAguhIorTWuIfqhwv52uN4FEJ4s",
     "timestamp": 1610610665580
    }
   ]
  },
  "kernelspec": {
   "display_name": "Python 3 (ipykernel)",
   "language": "python",
   "name": "python3"
  },
  "language_info": {
   "codemirror_mode": {
    "name": "ipython",
    "version": 3
   },
   "file_extension": ".py",
   "mimetype": "text/x-python",
   "name": "python",
   "nbconvert_exporter": "python",
   "pygments_lexer": "ipython3",
   "version": "3.11.1"
  }
 },
 "nbformat": 4,
 "nbformat_minor": 1
}
