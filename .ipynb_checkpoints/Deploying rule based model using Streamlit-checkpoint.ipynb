{
 "cells": [
  {
   "cell_type": "markdown",
   "metadata": {
    "id": "jPtUSXpZfntZ"
   },
   "source": [
    "## Deploying the rule based model to automate loan prediction\n",
    "\n",
    "1. Building the Frontend of the application\n",
    "2. Loading the data\n",
    "3. Building the model to automate Loan Eligibility\n",
    "4. Deploying the application"
   ]
  },
  {
   "cell_type": "markdown",
   "metadata": {
    "id": "UyQbUqDr7AUK"
   },
   "source": [
    "## 1. Building the Frontend of the application\n",
    "\n",
    "1.1 Install Required Libraries<br>\n",
    "1.2 Creating the Frontend of the app using Streamlit\n",
    "\n",
    "### 1.1 Install Required Libraries"
   ]
  },
  {
   "cell_type": "code",
   "execution_count": 1,
   "metadata": {
    "colab": {
     "base_uri": "https://localhost:8080/"
    },
    "executionInfo": {
     "elapsed": 5548,
     "status": "ok",
     "timestamp": 1616657965963,
     "user": {
      "displayName": "Subhash Meena",
      "photoUrl": "https://lh3.googleusercontent.com/a-/AOh14GjlYUo0RW8qCl-1gd9LR46qtyzQBuRLoySJAMrc=s64",
      "userId": "01461370006936346968"
     },
     "user_tz": -330
    },
    "id": "8o2Nv-0GVhsv",
    "outputId": "8142fd7d-acbf-4742-e344-0137cc45cd5b"
   },
   "outputs": [],
   "source": [
    "# installing pyngrok\n",
    "!pip install -q pyngrok"
   ]
  },
  {
   "cell_type": "code",
   "execution_count": 2,
   "metadata": {
    "colab": {
     "base_uri": "https://localhost:8080/"
    },
    "executionInfo": {
     "elapsed": 18750,
     "status": "ok",
     "timestamp": 1616657933171,
     "user": {
      "displayName": "Subhash Meena",
      "photoUrl": "https://lh3.googleusercontent.com/a-/AOh14GjlYUo0RW8qCl-1gd9LR46qtyzQBuRLoySJAMrc=s64",
      "userId": "01461370006936346968"
     },
     "user_tz": -330
    },
    "id": "96rKP77EJSvR",
    "outputId": "4fd6b09d-33b5-4b10-d257-00b6a4a5243e"
   },
   "outputs": [],
   "source": [
    "# installing streamlit\n",
    "!pip install -q streamlit"
   ]
  },
  {
   "cell_type": "code",
   "execution_count": 3,
   "metadata": {
    "colab": {
     "base_uri": "https://localhost:8080/"
    },
    "executionInfo": {
     "elapsed": 14626,
     "status": "ok",
     "timestamp": 1616657933907,
     "user": {
      "displayName": "Subhash Meena",
      "photoUrl": "https://lh3.googleusercontent.com/a-/AOh14GjlYUo0RW8qCl-1gd9LR46qtyzQBuRLoySJAMrc=s64",
      "userId": "01461370006936346968"
     },
     "user_tz": -330
    },
    "id": "6FaA15vWZfyu",
    "outputId": "096e8e1e-36c7-4bc7-a866-78a001f57960"
   },
   "outputs": [
    {
     "name": "stdout",
     "output_type": "stream",
     "text": [
      "Streamlit, version 1.22.0\n"
     ]
    }
   ],
   "source": [
    "!streamlit version"
   ]
  },
  {
   "cell_type": "markdown",
   "metadata": {
    "id": "rlKW2k6x7YS-"
   },
   "source": [
    "### 1.2 Creating the frontend of the app using streamlit"
   ]
  },
  {
   "cell_type": "code",
   "execution_count": 9,
   "metadata": {
    "colab": {
     "base_uri": "https://localhost:8080/"
    },
    "executionInfo": {
     "elapsed": 1187,
     "status": "ok",
     "timestamp": 1616658025507,
     "user": {
      "displayName": "Subhash Meena",
      "photoUrl": "https://lh3.googleusercontent.com/a-/AOh14GjlYUo0RW8qCl-1gd9LR46qtyzQBuRLoySJAMrc=s64",
      "userId": "01461370006936346968"
     },
     "user_tz": -330
    },
    "id": "ZC4c6EMgRYX1",
    "outputId": "848164f3-a7a1-428f-8879-e09e2b46ac92"
   },
   "outputs": [
    {
     "name": "stdout",
     "output_type": "stream",
     "text": [
      "Overwriting app.py\n"
     ]
    }
   ],
   "source": [
    "%%writefile app.py\n",
    "# creating the script\n",
    "\n",
    "# importing streamlit\n",
    "import streamlit as st\n",
    "  \n",
    "# this is the main function in which we define our app  \n",
    "def main():\n",
    "    # header of the page\n",
    "    st.markdown(\"Check your Loan Eligibility\") \n",
    "\n",
    "    # 2. Loading the data\n",
    "      \n",
    "    # following lines create boxes in which user can enter data required to make prediction \n",
    "    Gender = st.selectbox('Gender',(\"Male\",\"Female\",\"Other\"))\n",
    "    Married = st.selectbox('Marital Status',(\"Unmarried\",\"Married\",\"Other\")) \n",
    "    ApplicantIncome = st.number_input(\"Monthly Income in Rupees\") \n",
    "    LoanAmount = st.number_input(\"Loan Amount in Rupees\")\n",
    "    result =\"\"\n",
    "      \n",
    "    # when 'Check' is clicked, make the prediction and store it \n",
    "    if st.button(\"Check\"): \n",
    "        result = prediction(Gender, Married, ApplicantIncome, LoanAmount) \n",
    "        st.success('Your loan is {}'.format(result))\n",
    "\n",
    "# defining the function which will make the prediction using the data which the user inputs \n",
    "def prediction(Gender, Married, ApplicantIncome, LoanAmount):\n",
    "\n",
    "    # 3. Building the model to automate Loan Eligibility\n",
    "    if (ApplicantIncome >= 20000):\n",
    "        loan_status = 'Approved'\n",
    "    elif (LoanAmount < 600000):\n",
    "        loan_status = 'Approved'\n",
    "    else:\n",
    "        loan_status = 'Rejected'\n",
    "    return loan_status\n",
    "     \n",
    "if __name__=='__main__': \n",
    "    main()"
   ]
  },
  {
   "cell_type": "markdown",
   "metadata": {
    "id": "dWM7e9709d72"
   },
   "source": [
    "## 4. Deploying the application"
   ]
  },
  {
   "cell_type": "code",
   "execution_count": 7,
   "metadata": {
    "executionInfo": {
     "elapsed": 9498,
     "status": "ok",
     "timestamp": 1616657934623,
     "user": {
      "displayName": "Subhash Meena",
      "photoUrl": "https://lh3.googleusercontent.com/a-/AOh14GjlYUo0RW8qCl-1gd9LR46qtyzQBuRLoySJAMrc=s64",
      "userId": "01461370006936346968"
     },
     "user_tz": -330
    },
    "id": "fLsQUC3qgtZl",
    "scrolled": true
   },
   "outputs": [
    {
     "ename": "OSError",
     "evalue": "Background processes not supported.",
     "output_type": "error",
     "traceback": [
      "\u001b[1;31m---------------------------------------------------------------------------\u001b[0m",
      "\u001b[1;31mOSError\u001b[0m                                   Traceback (most recent call last)",
      "Cell \u001b[1;32mIn[7], line 2\u001b[0m\n\u001b[0;32m      1\u001b[0m \u001b[38;5;66;03m# running the app\u001b[39;00m\n\u001b[1;32m----> 2\u001b[0m \u001b[43mget_ipython\u001b[49m\u001b[43m(\u001b[49m\u001b[43m)\u001b[49m\u001b[38;5;241;43m.\u001b[39;49m\u001b[43msystem\u001b[49m\u001b[43m(\u001b[49m\u001b[38;5;124;43m'\u001b[39;49m\u001b[38;5;124;43mstreamlit run app.py &>/dev/null&\u001b[39;49m\u001b[38;5;124;43m'\u001b[39;49m\u001b[43m)\u001b[49m\n",
      "File \u001b[1;32m~\\env\\Lib\\site-packages\\ipykernel\\zmqshell.py:619\u001b[0m, in \u001b[0;36mZMQInteractiveShell.system_piped\u001b[1;34m(self, cmd)\u001b[0m\n\u001b[0;32m    604\u001b[0m \u001b[38;5;124;03m\"\"\"Call the given cmd in a subprocess, piping stdout/err\u001b[39;00m\n\u001b[0;32m    605\u001b[0m \n\u001b[0;32m    606\u001b[0m \u001b[38;5;124;03mParameters\u001b[39;00m\n\u001b[1;32m   (...)\u001b[0m\n\u001b[0;32m    611\u001b[0m \u001b[38;5;124;03m    other than simple text.\u001b[39;00m\n\u001b[0;32m    612\u001b[0m \u001b[38;5;124;03m\"\"\"\u001b[39;00m\n\u001b[0;32m    613\u001b[0m \u001b[38;5;28;01mif\u001b[39;00m cmd\u001b[38;5;241m.\u001b[39mrstrip()\u001b[38;5;241m.\u001b[39mendswith(\u001b[38;5;124m\"\u001b[39m\u001b[38;5;124m&\u001b[39m\u001b[38;5;124m\"\u001b[39m):\n\u001b[0;32m    614\u001b[0m     \u001b[38;5;66;03m# this is *far* from a rigorous test\u001b[39;00m\n\u001b[0;32m    615\u001b[0m     \u001b[38;5;66;03m# We do not support backgrounding processes because we either use\u001b[39;00m\n\u001b[0;32m    616\u001b[0m     \u001b[38;5;66;03m# pexpect or pipes to read from.  Users can always just call\u001b[39;00m\n\u001b[0;32m    617\u001b[0m     \u001b[38;5;66;03m# os.system() or use ip.system=ip.system_raw\u001b[39;00m\n\u001b[0;32m    618\u001b[0m     \u001b[38;5;66;03m# if they really want a background process.\u001b[39;00m\n\u001b[1;32m--> 619\u001b[0m     \u001b[38;5;28;01mraise\u001b[39;00m \u001b[38;5;167;01mOSError\u001b[39;00m(\u001b[38;5;124m\"\u001b[39m\u001b[38;5;124mBackground processes not supported.\u001b[39m\u001b[38;5;124m\"\u001b[39m)\n\u001b[0;32m    621\u001b[0m \u001b[38;5;66;03m# we explicitly do NOT return the subprocess status code, because\u001b[39;00m\n\u001b[0;32m    622\u001b[0m \u001b[38;5;66;03m# a non-None value would trigger :func:`sys.displayhook` calls.\u001b[39;00m\n\u001b[0;32m    623\u001b[0m \u001b[38;5;66;03m# Instead, we store the exit_code in user_ns.\u001b[39;00m\n\u001b[0;32m    624\u001b[0m \u001b[38;5;66;03m# Also, protect system call from UNC paths on Windows here too\u001b[39;00m\n\u001b[0;32m    625\u001b[0m \u001b[38;5;66;03m# as is done in InteractiveShell.system_raw\u001b[39;00m\n\u001b[0;32m    626\u001b[0m \u001b[38;5;28;01mif\u001b[39;00m sys\u001b[38;5;241m.\u001b[39mplatform \u001b[38;5;241m==\u001b[39m \u001b[38;5;124m\"\u001b[39m\u001b[38;5;124mwin32\u001b[39m\u001b[38;5;124m\"\u001b[39m:\n",
      "\u001b[1;31mOSError\u001b[0m: Background processes not supported."
     ]
    }
   ],
   "source": [
    "# running the app\n",
    "\n",
    "#!streamlit run app.py &>/dev/null&\n",
    "\n",
    "# To run the application in cmd : - Go to the location after activating the virtual environment and then run the below command\n",
    "# python -m streamlit run <filename.py>"
   ]
  },
  {
   "cell_type": "code",
   "execution_count": 8,
   "metadata": {
    "colab": {
     "base_uri": "https://localhost:8080/"
    },
    "executionInfo": {
     "elapsed": 3294,
     "status": "ok",
     "timestamp": 1616657970038,
     "user": {
      "displayName": "Subhash Meena",
      "photoUrl": "https://lh3.googleusercontent.com/a-/AOh14GjlYUo0RW8qCl-1gd9LR46qtyzQBuRLoySJAMrc=s64",
      "userId": "01461370006936346968"
     },
     "user_tz": -330
    },
    "id": "G93y3SeHgf6H",
    "outputId": "c6becae7-7184-46d9-fe3a-3141bd72397e"
   },
   "outputs": [
    {
     "name": "stdout",
     "output_type": "stream",
     "text": [
      "                                                                                                    \r"
     ]
    },
    {
     "name": "stderr",
     "output_type": "stream",
     "text": [
      "t=2023-05-01T14:55:41+0530 lvl=warn msg=\"ngrok config file found at legacy location, move to XDG location\" xdg_path=C:\\\\Users\\\\lenovo\\\\AppData\\\\Local/ngrok/ngrok.yml legacy_path=C:\\\\Users\\\\lenovo\\\\.ngrok2\\\\ngrok.yml\n"
     ]
    },
    {
     "data": {
      "text/plain": [
       "<NgrokTunnel: \"https://4802-182-69-183-31.ngrok.io\" -> \"http://localhost:8501\">"
      ]
     },
     "execution_count": 8,
     "metadata": {},
     "output_type": "execute_result"
    }
   ],
   "source": [
    "# making the locally-hosted web application to be publicly accessible\n",
    "from pyngrok import ngrok\n",
    "\n",
    "public_url = ngrok.connect('8501') # 8501 is the IP Address\n",
    "public_url"
   ]
  },
  {
   "cell_type": "code",
   "execution_count": null,
   "metadata": {
    "executionInfo": {
     "elapsed": 8783,
     "status": "aborted",
     "timestamp": 1616657934625,
     "user": {
      "displayName": "Subhash Meena",
      "photoUrl": "https://lh3.googleusercontent.com/a-/AOh14GjlYUo0RW8qCl-1gd9LR46qtyzQBuRLoySJAMrc=s64",
      "userId": "01461370006936346968"
     },
     "user_tz": -330
    },
    "id": "kTg-2Nar2Wsi"
   },
   "outputs": [],
   "source": []
  }
 ],
 "metadata": {
  "accelerator": "GPU",
  "colab": {
   "collapsed_sections": [],
   "name": "3.5 Deploying rule based model using Streamlit",
   "provenance": [
    {
     "file_id": "1MOdsbJAguhIorTWuIfqhwv52uN4FEJ4s",
     "timestamp": 1610610665580
    }
   ]
  },
  "kernelspec": {
   "display_name": "Python 3 (ipykernel)",
   "language": "python",
   "name": "python3"
  },
  "language_info": {
   "codemirror_mode": {
    "name": "ipython",
    "version": 3
   },
   "file_extension": ".py",
   "mimetype": "text/x-python",
   "name": "python",
   "nbconvert_exporter": "python",
   "pygments_lexer": "ipython3",
   "version": "3.11.1"
  }
 },
 "nbformat": 4,
 "nbformat_minor": 1
}
